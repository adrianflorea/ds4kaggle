{
 "cells": [
  {
   "cell_type": "code",
   "execution_count": 1,
   "metadata": {
    "collapsed": false
   },
   "outputs": [],
   "source": [
    "import numpy as np"
   ]
  },
  {
   "cell_type": "markdown",
   "metadata": {},
   "source": [
    "# Python for DS Practice\n",
    "## Data Science for Kaggle Decal Spring 2017\n",
    "\n",
    "\n",
    "Welcome to the first pset. This should be a really simple intro to numpy. We are structuring it to get you familiar with the tools we will be using for this class. Make sure that you run the first cell before any others otherwise you'll get errors for not including the numpy package."
   ]
  },
  {
   "cell_type": "markdown",
   "metadata": {},
   "source": [
    "# Problem 1\n",
    "Fill `fun_array` with values 1-100 using a numpy method."
   ]
  },
  {
   "cell_type": "code",
   "execution_count": 22,
   "metadata": {
    "collapsed": false
   },
   "outputs": [
    {
     "data": {
      "text/plain": [
       "array([  1,   2,   3,   4,   5,   6,   7,   8,   9,  10,  11,  12,  13,\n",
       "        14,  15,  16,  17,  18,  19,  20,  21,  22,  23,  24,  25,  26,\n",
       "        27,  28,  29,  30,  31,  32,  33,  34,  35,  36,  37,  38,  39,\n",
       "        40,  41,  42,  43,  44,  45,  46,  47,  48,  49,  50,  51,  52,\n",
       "        53,  54,  55,  56,  57,  58,  59,  60,  61,  62,  63,  64,  65,\n",
       "        66,  67,  68,  69,  70,  71,  72,  73,  74,  75,  76,  77,  78,\n",
       "        79,  80,  81,  82,  83,  84,  85,  86,  87,  88,  89,  90,  91,\n",
       "        92,  93,  94,  95,  96,  97,  98,  99, 100])"
      ]
     },
     "execution_count": 22,
     "metadata": {},
     "output_type": "execute_result"
    }
   ],
   "source": [
    "fun_array = np.arange(1, 101)\n",
    "fun_array"
   ]
  },
  {
   "cell_type": "markdown",
   "metadata": {},
   "source": [
    "# Problem 2 \n",
    "Take the square root of each element in fun_array using numpy commands. Don't use a `for` loop."
   ]
  },
  {
   "cell_type": "code",
   "execution_count": 23,
   "metadata": {
    "collapsed": false
   },
   "outputs": [
    {
     "data": {
      "text/plain": [
       "array([    1,     4,     9,    16,    25,    36,    49,    64,    81,\n",
       "         100,   121,   144,   169,   196,   225,   256,   289,   324,\n",
       "         361,   400,   441,   484,   529,   576,   625,   676,   729,\n",
       "         784,   841,   900,   961,  1024,  1089,  1156,  1225,  1296,\n",
       "        1369,  1444,  1521,  1600,  1681,  1764,  1849,  1936,  2025,\n",
       "        2116,  2209,  2304,  2401,  2500,  2601,  2704,  2809,  2916,\n",
       "        3025,  3136,  3249,  3364,  3481,  3600,  3721,  3844,  3969,\n",
       "        4096,  4225,  4356,  4489,  4624,  4761,  4900,  5041,  5184,\n",
       "        5329,  5476,  5625,  5776,  5929,  6084,  6241,  6400,  6561,\n",
       "        6724,  6889,  7056,  7225,  7396,  7569,  7744,  7921,  8100,\n",
       "        8281,  8464,  8649,  8836,  9025,  9216,  9409,  9604,  9801, 10000])"
      ]
     },
     "execution_count": 23,
     "metadata": {},
     "output_type": "execute_result"
    }
   ],
   "source": [
    "fun_array_sqrt = fun_array * fun_array # np.sqrt(fun_array)\n",
    "fun_array_sqrt"
   ]
  },
  {
   "cell_type": "markdown",
   "metadata": {},
   "source": [
    "# Problem 3\n",
    "Fill this array with 100 random values. Your answer should use only a single method call like `np.<method>()`."
   ]
  },
  {
   "cell_type": "code",
   "execution_count": 24,
   "metadata": {
    "collapsed": false
   },
   "outputs": [
    {
     "data": {
      "text/plain": [
       "array([ 0.53689145,  0.49131662,  0.60163565,  0.32817288,  0.53659373,\n",
       "        0.74698445,  0.77375376,  0.22701108,  0.60833761,  0.56404054,\n",
       "        0.81241295,  0.73423032,  0.98422769,  0.69878699,  0.62761521,\n",
       "        0.46420215,  0.07218849,  0.08587147,  0.67942745,  0.7782849 ,\n",
       "        0.92184001,  0.39449722,  0.50214416,  0.19171999,  0.50570292,\n",
       "        0.67146894,  0.4225444 ,  0.12290865,  0.88921228,  0.92894486,\n",
       "        0.38184758,  0.90497332,  0.18581308,  0.53163561,  0.00218323,\n",
       "        0.99428517,  0.01088074,  0.19281721,  0.06267297,  0.57801911,\n",
       "        0.2954728 ,  0.93138968,  0.19555356,  0.94612693,  0.87253418,\n",
       "        0.23650469,  0.70036425,  0.6164009 ,  0.52932145,  0.19641865,\n",
       "        0.17110188,  0.60046392,  0.89972642,  0.49403266,  0.64382498,\n",
       "        0.76392421,  0.88519634,  0.39294813,  0.72239882,  0.07813522,\n",
       "        0.82291858,  0.50729982,  0.88602872,  0.29357496,  0.80244669,\n",
       "        0.87995333,  0.8575057 ,  0.05380756,  0.66455089,  0.3934185 ,\n",
       "        0.53228996,  0.27469605,  0.81167179,  0.30072752,  0.95603963,\n",
       "        0.47842332,  0.10800323,  0.62747014,  0.99415604,  0.66723126,\n",
       "        0.04232739,  0.03902317,  0.57645201,  0.36020929,  0.87360201,\n",
       "        0.14142568,  0.25944936,  0.4727824 ,  0.3955147 ,  0.42840571,\n",
       "        0.64055385,  0.33157122,  0.54872609,  0.81601636,  0.80962414,\n",
       "        0.90819315,  0.36930334,  0.49111633,  0.7758018 ,  0.208066  ])"
      ]
     },
     "execution_count": 24,
     "metadata": {},
     "output_type": "execute_result"
    }
   ],
   "source": [
    "random_array = np.random.rand(100)\n",
    "random_array"
   ]
  },
  {
   "cell_type": "markdown",
   "metadata": {},
   "source": [
    "# Problem 4\n",
    "Multiply each element in `random_array` by `5`. Do not use a `for` loop."
   ]
  },
  {
   "cell_type": "code",
   "execution_count": 25,
   "metadata": {
    "collapsed": false
   },
   "outputs": [
    {
     "data": {
      "text/plain": [
       "array([ 2.68445723,  2.45658312,  3.00817827,  1.64086442,  2.68296864,\n",
       "        3.73492225,  3.86876878,  1.13505542,  3.04168803,  2.8202027 ,\n",
       "        4.06206473,  3.67115158,  4.92113843,  3.49393497,  3.13807607,\n",
       "        2.32101075,  0.36094243,  0.42935737,  3.39713726,  3.89142451,\n",
       "        4.60920007,  1.97248612,  2.51072078,  0.95859994,  2.52851459,\n",
       "        3.35734468,  2.11272202,  0.61454323,  4.44606142,  4.64472431,\n",
       "        1.90923792,  4.52486658,  0.92906538,  2.65817805,  0.01091617,\n",
       "        4.97142587,  0.05440372,  0.96408607,  0.31336483,  2.89009554,\n",
       "        1.47736401,  4.65694839,  0.97776781,  4.73063467,  4.36267089,\n",
       "        1.18252347,  3.50182127,  3.08200451,  2.64660725,  0.98209327,\n",
       "        0.85550938,  3.00231962,  4.49863209,  2.47016332,  3.21912492,\n",
       "        3.81962103,  4.42598169,  1.96474064,  3.61199412,  0.3906761 ,\n",
       "        4.11459288,  2.53649911,  4.43014361,  1.46787478,  4.01223345,\n",
       "        4.39976663,  4.28752851,  0.2690378 ,  3.32275446,  1.96709252,\n",
       "        2.66144981,  1.37348024,  4.05835894,  1.50363759,  4.78019813,\n",
       "        2.39211658,  0.54001615,  3.1373507 ,  4.97078019,  3.33615632,\n",
       "        0.21163697,  0.19511584,  2.88226003,  1.80104647,  4.36801003,\n",
       "        0.70712841,  1.29724678,  2.36391198,  1.9775735 ,  2.14202854,\n",
       "        3.20276924,  1.6578561 ,  2.74363044,  4.08008179,  4.04812068,\n",
       "        4.54096576,  1.84651672,  2.45558166,  3.87900899,  1.04033001])"
      ]
     },
     "execution_count": 25,
     "metadata": {},
     "output_type": "execute_result"
    }
   ],
   "source": [
    "random_arrayx5 = random_array * 5\n",
    "random_arrayx5"
   ]
  },
  {
   "cell_type": "markdown",
   "metadata": {},
   "source": [
    "# Problem 5\n",
    "Multiply matrix $X$ and multiply with $\\vec{y}$ using numpy commands. Should be only 1 line."
   ]
  },
  {
   "cell_type": "code",
   "execution_count": 27,
   "metadata": {
    "collapsed": false
   },
   "outputs": [
    {
     "data": {
      "text/plain": [
       "array([14, 32, 50])"
      ]
     },
     "execution_count": 27,
     "metadata": {},
     "output_type": "execute_result"
    }
   ],
   "source": [
    "X = np.array([[1,2,3],[4,5,6],[7,8,9]])\n",
    "y = np.array([1,2,3])\n",
    "X.dot(y) # Python 3.5: X @ y"
   ]
  },
  {
   "cell_type": "markdown",
   "metadata": {},
   "source": [
    "# Problem 6\n",
    "Get the shape of `X` and output it. Do it with and without a print() statement for full credit."
   ]
  },
  {
   "cell_type": "code",
   "execution_count": 28,
   "metadata": {
    "collapsed": false
   },
   "outputs": [
    {
     "name": "stdout",
     "output_type": "stream",
     "text": [
      "(3L, 3L)\n"
     ]
    },
    {
     "data": {
      "text/plain": [
       "(3L, 3L)"
      ]
     },
     "execution_count": 28,
     "metadata": {},
     "output_type": "execute_result"
    }
   ],
   "source": [
    "print(X.shape)\n",
    "X.shape"
   ]
  },
  {
   "cell_type": "markdown",
   "metadata": {},
   "source": [
    "# Problem 7\n",
    "Fill in the missing code so that you can plot "
   ]
  },
  {
   "cell_type": "code",
   "execution_count": 29,
   "metadata": {
    "collapsed": false
   },
   "outputs": [
    {
     "data": {
      "text/plain": [
       "(0, 5)"
      ]
     },
     "execution_count": 29,
     "metadata": {},
     "output_type": "execute_result"
    },
    {
     "data": {
      "image/png": "[encoded data removed]",
      "text/plain": [
       "<matplotlib.figure.Figure at 0x7cbe710>"
      ]
     },
     "metadata": {},
     "output_type": "display_data"
    }
   ],
   "source": [
    "%matplotlib inline\n",
    "import matplotlib.pyplot as plt\n",
    "X = np.linspace(0, 5, 500) #np.arange(500)\n",
    "\n",
    "# These are just to represent actual training and testing \n",
    "training_accuracy = np.exp(-(X)) * np.exp(1.5) + 0.5\n",
    "testing_accuracy = (X - 2.4)**2 + 1\n",
    "\n",
    "plt.plot(X, training_accuracy, X, testing_accuracy)\n",
    "\n",
    "plt.title(\"Bias Variance\")\n",
    "plt.xlabel(\"Parameter Value \")\n",
    "plt.ylabel(\"Error\")\n",
    "plt.legend(labels=['Training Error','Testing Error'])\n",
    "axes = plt.gca()\n",
    "axes.set_ylim([0,5])"
   ]
  }
 ],
 "metadata": {
  "celltoolbar": "Edit Metadata",
  "kernelspec": {
   "display_name": "Python 2",
   "language": "python",
   "name": "python2"
  },
  "language_info": {
   "codemirror_mode": {
    "name": "ipython",
    "version": 2
   },
   "file_extension": ".py",
   "mimetype": "text/x-python",
   "name": "python",
   "nbconvert_exporter": "python",
   "pygments_lexer": "ipython2",
   "version": "2.7.12"
  }
 },
 "nbformat": 4,
 "nbformat_minor": 0
}
